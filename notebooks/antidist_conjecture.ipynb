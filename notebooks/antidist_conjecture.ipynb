{
 "cells": [
  {
   "cell_type": "markdown",
   "metadata": {},
   "source": [
    "# Antidistinguishability conjecture"
   ]
  },
  {
   "cell_type": "markdown",
   "metadata": {},
   "source": [
    "In this notebook, we will investigate the antidistinguishability conjecture and provide an explicit counterexample."
   ]
  },
  {
   "cell_type": "markdown",
   "metadata": {},
   "source": [
    "## Imports"
   ]
  },
  {
   "cell_type": "code",
   "execution_count": 1,
   "metadata": {},
   "outputs": [],
   "source": [
    "import cvxopt\n",
    "import numpy as np\n",
    "import picos"
   ]
  },
  {
   "cell_type": "markdown",
   "metadata": {},
   "source": [
    "Generate a random collection of $d$ (normalized) $d$-dimensional vectors. "
   ]
  },
  {
   "cell_type": "code",
   "execution_count": 2,
   "metadata": {},
   "outputs": [],
   "source": [
    "def generate_random_vectors(dim: int) -> list[np.ndarray]:\n",
    "    \"\"\"Return a list of \"d\" d-dimensional Haar-random vectors.\n",
    "\n",
    "    Returns:\n",
    "        An np.ndarray of \"d\" d-dimensional complex random vectors.\n",
    "    \"\"\"\n",
    "    components = np.random.randn(dim * dim, 2).view(np.complex128)\n",
    "    vectors: list[np.ndarray] = []\n",
    "    for v in range(dim):\n",
    "        vectors.append([])\n",
    "        for c in range(dim):\n",
    "            vectors[v].append(components[v * dim + c][0])\n",
    "\n",
    "        # Normalize vectors.\n",
    "        vectors[v] = vectors[v] / np.linalg.norm(vectors[v])\n",
    "    return np.array(vectors)"
   ]
  },
  {
   "cell_type": "markdown",
   "metadata": {},
   "source": [
    "Implements the following dual problem to obtain an upper bound on the antidistinguishability:\n",
    "\n",
    "$$\n",
    "    \\begin{equation}\n",
    "        \\begin{aligned}\n",
    "            \\textbf{Dual:} \\quad & \\\\\n",
    "            \\text{maximize:} \\quad & \\text{Tr}(H) \\\\\n",
    "            \\text{subject to:} \\quad & Y \\leq |\\psi_i \\rangle \\langle \\psi_i| \\quad (\\text{for each} \\ i = 1, \\ldots, d), \\\\\n",
    "                                     & Y \\in \\text{Herm}(\\mathcal{Y}).\n",
    "        \\end{aligned}\n",
    "    \\end{equation}\n",
    "$$"
   ]
  },
  {
   "cell_type": "code",
   "execution_count": 3,
   "metadata": {},
   "outputs": [],
   "source": [
    "def dual_problem(vectors: np.ndarray) -> float:\n",
    "    problem = picos.Problem()\n",
    "\n",
    "    # Convert vectors into corresponding density matrices.\n",
    "    state_mtx = cvxopt.matrix(vectors)\n",
    "    num_states, dim = state_mtx.size[0], state_mtx.size[1]    \n",
    "    \n",
    "    density_matrices: list[picos.Constant] = []\n",
    "    for i in range(len(vectors)):\n",
    "        mtx = state_mtx[i, :].H * state_mtx[i, :]        \n",
    "        density_matrices.append(picos.Constant(\"ρ[{}]\".format(i), mtx))\n",
    "    \n",
    "    # Set up variables and constraints for SDP:\n",
    "    y_var = picos.HermitianVariable(\"Y\", (dim, dim))\n",
    "    problem.add_list_of_constraints([y_var << p for p in density_matrices])\n",
    "\n",
    "    # Objective function:\n",
    "    problem.set_objective(\"max\", picos.trace(y_var))\n",
    "    solution = problem.solve()\n",
    "\n",
    "    return solution.value"
   ]
  },
  {
   "cell_type": "markdown",
   "metadata": {},
   "source": [
    "Recall that an ensemble of states are *antidistinguishable* if and only if the optimal value of the SDP is equal to zero. Otherwise, if it is greater than zero, it is *not* antidistinguishable."
   ]
  },
  {
   "cell_type": "code",
   "execution_count": 4,
   "metadata": {},
   "outputs": [],
   "source": [
    "def is_antidistinguishable(vectors: np.ndarray) -> bool:\n",
    "    \"\"\"A value > 0 indicates the states are *not* antidistinguishable.\"\"\"\n",
    "    return True if np.isclose(dual_problem(vectors), 0) else False"
   ]
  },
  {
   "cell_type": "markdown",
   "metadata": {},
   "source": [
    "Check if the conjectured inequality\n",
    "\n",
    "$$\n",
    "|\\langle \\psi_i | \\psi_j \\rangle| \\leq \\frac{d-2}{d-1}\n",
    "$$\n",
    "\n",
    "for all $i \\not= j$ is satisfied."
   ]
  },
  {
   "cell_type": "code",
   "execution_count": 5,
   "metadata": {},
   "outputs": [],
   "source": [
    "def is_inequality_satisfied(vectors: np.ndarray) -> bool:\n",
    "    \"\"\"The anti-distinguishability conjecture states that for |Ψ_1>, ..., |Ψ_d> pure states, \n",
    "    if |<Ψ_i|Ψ_j>| ≤ (d − 2)/(d − 1) for all i != j, then the states are antidistinguishable.\n",
    "\n",
    "    Returns:\n",
    "        True if the inequality is satisfied, False otherwise.\n",
    "    \"\"\"\n",
    "    dims = vectors[0].shape\n",
    "    for i, _ in enumerate(vectors):\n",
    "        for j, _ in enumerate(vectors):\n",
    "            if i != j:\n",
    "                ip_val = np.abs(np.trace(vectors[i].conj().T * vectors[j].reshape(-1, 1)))\n",
    "\n",
    "                # If |<Ψ_i|Ψ_j>| > (d − 2)/(d − 1) for some i != j, return False.\n",
    "                if ip_val > (dim - 2)/(dim - 1):\n",
    "                    return False\n",
    "    return True"
   ]
  },
  {
   "cell_type": "markdown",
   "metadata": {},
   "source": [
    "Recall that a valid counterexample is one where the state of states are **not** antidistinguishable but **do** satisfy the conjectured bound."
   ]
  },
  {
   "cell_type": "code",
   "execution_count": 6,
   "metadata": {},
   "outputs": [],
   "source": [
    "def is_conjecture_violated(vectors: np.ndarray) -> bool:\n",
    "    \"\"\"Check if the antidistinguishability conjecture is satisfied.\n",
    "\n",
    "    Returns:\n",
    "        True if the conjecture is violated, False otherwise.\n",
    "    \"\"\"\n",
    "    # The conjecture states that if the inequality is satisfied, then the states are antidistinguishable. \n",
    "    # If we find a violation of this fact then we have a violation of the conjecture.\n",
    "    return is_inequality_satisfied(vectors) and not is_antidistinguishable(vectors)"
   ]
  },
  {
   "cell_type": "markdown",
   "metadata": {},
   "source": [
    "## A counterexample to the antidistinguishability conjecture"
   ]
  },
  {
   "cell_type": "markdown",
   "metadata": {},
   "source": [
    "One such counterexample that was found through random search is the following:\n",
    "$$\n",
    "\\begin{equation}\n",
    "    \\begin{aligned} \n",
    "        |\\psi_1\\rangle = \\begin{bmatrix} \n",
    "             +0.50127198 - 0.037607i \\\\ \n",
    "            -0.00698152 - 0.590973i \\\\ \n",
    "             +0.08186514 - 0.4497548i \\\\\n",
    "            -0.01299883 + 0.43458491i \n",
    "        \\end{bmatrix}, &\\quad\n",
    "        |\\psi_2\\rangle = \\begin{bmatrix} \n",
    "            -0.07115345 - 0.27080326i \\\\ \n",
    "             +0.82047712 + 0.26320823i \\\\ \n",
    "             +0.22105089 - 0.2091996i \\\\ \n",
    "            -0.23575591 - 0.1758769i       \n",
    "        \\end{bmatrix}, \\\\ \n",
    "        |\\psi_3\\rangle = \\begin{bmatrix} \n",
    "            +0.31360906 + 0.46339313i \\\\ \n",
    "           -0.0465825 - 0.47825017i \\\\ \n",
    "           -0.10470394 - 0.11776404i \\\\ \n",
    "            +0.60231515 + 0.26154959i \n",
    "        \\end{bmatrix}, &\\quad\n",
    "        |\\psi_4\\rangle = \\begin{bmatrix} \n",
    "            -0.53532122 - 0.03654632i \\\\\n",
    "             +0.40955941 - 0.15150576i \\\\ \n",
    "            -0.05741386 + 0.23873985i \\\\\n",
    "            -0.4737113 - 0.48652564i \\\\ \n",
    "        \\end{bmatrix}.\n",
    "    \\end{aligned}\n",
    "\\end{equation} \n",
    "$$\n",
    "\n",
    "We can observe that the above set of $4$ states violates the conjecture."
   ]
  },
  {
   "cell_type": "code",
   "execution_count": 7,
   "metadata": {},
   "outputs": [
    {
     "name": "stdout",
     "output_type": "stream",
     "text": [
      "Are the states antidistinguishable: False\n",
      "Is inequality satisfied: True\n",
      "Is conjecture violated: True\n"
     ]
    }
   ],
   "source": [
    "dim: int = 4\n",
    "vectors = np.array(\n",
    "    [\n",
    "        [\n",
    "            0.50127198 - 0.037607j,\n",
    "            -0.00698152 - 0.590973j,\n",
    "            0.08186514 - 0.4497548j,\n",
    "            -0.01299883 + 0.43458491j,\n",
    "        ],\n",
    "        [\n",
    "            -0.07115345 - 0.27080326j,\n",
    "            0.82047712 + 0.26320823j,\n",
    "            0.22105089 - 0.2091996j,\n",
    "            -0.23575591 - 0.1758769j,\n",
    "        ],\n",
    "        [\n",
    "            0.31360906 + 0.46339313j,\n",
    "            -0.0465825 - 0.47825017j,\n",
    "            -0.10470394 - 0.11776404j,\n",
    "            0.60231515 + 0.26154959j,\n",
    "        ],\n",
    "        [\n",
    "            -0.53532122 - 0.03654632j,\n",
    "            0.40955941 - 0.15150576j,\n",
    "            -0.05741386 + 0.23873985j,\n",
    "            -0.4737113 - 0.48652564j,\n",
    "        ],\n",
    "    ]\n",
    ")\n",
    "\n",
    "print(f\"Are the states antidistinguishable: {is_antidistinguishable(vectors)}\")\n",
    "print(f\"Is inequality satisfied: {is_inequality_satisfied(vectors)}\")\n",
    "print(f\"Is conjecture violated: {is_conjecture_violated(vectors)}\")"
   ]
  }
 ],
 "metadata": {
  "kernelspec": {
   "display_name": "Python 3 (ipykernel)",
   "language": "python",
   "name": "python3"
  },
  "language_info": {
   "codemirror_mode": {
    "name": "ipython",
    "version": 3
   },
   "file_extension": ".py",
   "mimetype": "text/x-python",
   "name": "python",
   "nbconvert_exporter": "python",
   "pygments_lexer": "ipython3",
   "version": "3.9.2"
  }
 },
 "nbformat": 4,
 "nbformat_minor": 2
}
